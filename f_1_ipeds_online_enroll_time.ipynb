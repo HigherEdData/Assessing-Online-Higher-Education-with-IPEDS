{
 "cells": [
  {
   "cell_type": "markdown",
   "id": "6d2dd673-6881-4348-9877-db91e5bc1be4",
   "metadata": {},
   "source": [
    "# Exclusively online enrollments over time (four-year institutions only, undergraduates only)"
   ]
  },
  {
   "cell_type": "markdown",
   "id": "b32341c5-2f6a-45cd-b4ef-a855052198c1",
   "metadata": {},
   "source": [
    "## Prepared by Charlie Eaton and Christian Michael Smith"
   ]
  },
  {
   "cell_type": "code",
   "execution_count": null,
   "id": "74eff471-e659-4325-8aa9-c16bc24686ea",
   "metadata": {},
   "outputs": [],
   "source": [
    "ssc install blindschemes"
   ]
  },
  {
   "cell_type": "code",
   "execution_count": null,
   "id": "04c29a2d-e25a-49f6-80e1-b3e7d951039b",
   "metadata": {},
   "outputs": [],
   "source": [
    "use data/hdefa_dist20122019.dta, clear"
   ]
  },
  {
   "cell_type": "code",
   "execution_count": null,
   "id": "65eae06a-97c2-4682-86a4-97f9af544f0b",
   "metadata": {},
   "outputs": [],
   "source": [
    "qui {\n",
    "drop if control<1\n",
    "replace control=4 if iclevel>1 //Note that this includes <2yr institutions, and does not differentiate by for-profit/public status\n",
    "collapse (sum) efdeexcu, by(year control)\n",
    "reshape wide efdeexcu, i(year) j(control)\n",
    "label var efdeexcu4 \"community     \"\n",
    "label var efdeexcu3 \"for-profit    \"\n",
    "label var efdeexcu2 \"nonprofit (private)\"\n",
    "label var efdeexcu1 \"nonprofit (public)\"  \n",
    "}"
   ]
  },
  {
   "cell_type": "code",
   "execution_count": null,
   "id": "93793662-501d-4a7c-96d5-eee79c92cc39",
   "metadata": {},
   "outputs": [],
   "source": [
    "tw (connect efdeexcu3 efdeexcu2 efdeexcu1 year if year>2011 & year<2020, sort ///\n",
    "legend(pos(6) size(small) order(1 4 2 3)) xlabel(2011(2)2020, ang(45) labsize(medium)) ///\n",
    "ytitle(\"undergraduate online enrollment\" \" \" \" \" \"  \", size(medium)) ylabel(, format(%10.0fc) labsize(medium)) ///\n",
    "xtitle(\"\")  note(\"\") scheme(plotplain))"
   ]
  }
 ],
 "metadata": {
  "kernelspec": {
   "display_name": "Stata",
   "language": "stata",
   "name": "stata"
  },
  "language_info": {
   "codemirror_mode": "stata",
   "file_extension": ".do",
   "mimetype": "text/x-stata",
   "name": "stata",
   "version": "15.1"
  }
 },
 "nbformat": 4,
 "nbformat_minor": 5
}
